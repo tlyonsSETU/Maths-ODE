{
  "cells": [
    {
      "cell_type": "markdown",
      "metadata": {
        "id": "view-in-github",
        "colab_type": "text"
      },
      "source": [
        "<a href=\"https://colab.research.google.com/github/tlyonsSETU/Maths-ODE/blob/main/Workbook%201%20-%20Numerical%20Methods.ipynb\" target=\"_parent\"><img src=\"https://colab.research.google.com/assets/colab-badge.svg\" alt=\"Open In Colab\"/></a>"
      ]
    },
    {
      "cell_type": "markdown",
      "metadata": {
        "id": "4Is5JM9KXtWa"
      },
      "source": [
        "# Maths Ordinary Differential Equations - Autumn 2023\n",
        "\n",
        "\n",
        "# __Numerical Methods__\n",
        "\n",
        "\n",
        "\n",
        "* This workbook implements __Euler's method__, the __Euler-Heun method__ and Euler's method for __multi-component systems.__\n",
        "\n",
        "\n",
        "* Each of these algorithms are dfeined as functions below.\n",
        "\n"
      ]
    },
    {
      "cell_type": "markdown",
      "metadata": {
        "id": "EAInw3XoXtWc"
      },
      "source": [
        "# Importing libraries\n",
        "\n",
        "\n",
        "* The cell below imports the __numpy__ library as __np__ (an abbreviation we choose to save typing numpy wach time).\n",
        "\n",
        "\n",
        "* The following cell imports to __matplotlib__ library, which we will use to plot the solutions of ODE obtaeind using these numerical methods.\n",
        "\n",
        "\n",
        "* The run a code cell (the gray cells), click on it and press __Shift__ and __Enter__ or press the play command to the left of the cell.\n"
      ]
    },
    {
      "cell_type": "code",
      "execution_count": null,
      "metadata": {
        "id": "gEwiCxaNXtWd"
      },
      "outputs": [],
      "source": [
        "import numpy as np\n",
        "from numpy import cos, sin, exp, pi,tan, log, arctan,arccos"
      ]
    },
    {
      "cell_type": "code",
      "execution_count": null,
      "metadata": {
        "id": "Y3-OkvF1XtWe"
      },
      "outputs": [],
      "source": [
        "import matplotlib.pyplot as plt"
      ]
    },
    {
      "cell_type": "markdown",
      "source": [
        "* The library in the following cell is specifically used for __Google Colab__\n",
        "\n",
        "* It is used for downloading files, such as plots which we will create in this workbooks."
      ],
      "metadata": {
        "id": "l2JTv5W_X5QF"
      }
    },
    {
      "cell_type": "code",
      "source": [
        "from google.colab import files"
      ],
      "metadata": {
        "id": "xhv5mB8iY4qS"
      },
      "execution_count": null,
      "outputs": []
    },
    {
      "cell_type": "markdown",
      "metadata": {
        "id": "jA_H3bP_XtWe"
      },
      "source": [
        "# Euler's Method\n",
        "\n",
        "* The cell below is a function to execute __Euler's Metod.__\n",
        "\n",
        "\n",
        "* It requires __5 inputs:__\n",
        "    1. The function __f(x,y)__ appearing in the ODE.\n",
        "    2. The start point __x0__.\n",
        "    3. The end point __x1__.\n",
        "    4. The intial value __y0__.\n",
        "    5. The number of steps __n__ to take when implementing Euler's method."
      ]
    },
    {
      "cell_type": "code",
      "execution_count": null,
      "metadata": {
        "id": "o54DBF7SXtWf"
      },
      "outputs": [],
      "source": [
        "def Euler(f, x0, xn, y0, n):\n",
        "    x = np.linspace(x0,xn,n+1)\n",
        "    h=x[1]-x[0]\n",
        "    y = np.zeros(n+1)\n",
        "    for i in range(n+1):\n",
        "        y[0]=y0\n",
        "        y[i]= y[i-1]+h * f(x[i-1], y[i-1])\n",
        "        x[i]=x[i-1]+h\n",
        "    return np.round(y,5)"
      ]
    },
    {
      "cell_type": "markdown",
      "metadata": {
        "id": "sPgLQefgXtWf"
      },
      "source": [
        "# Example 1 - From lectures on Tuesday, 8 November 2022\n",
        "\n",
        "\n",
        "* This is the example we did by hand during lectures on Tuesday, 8 November.\n",
        "\n",
        "\n",
        "* This example is also in the notes on Moodel: __Lecture 9.pdf, Example 1 - p. 6__\n",
        "\n",
        "\n",
        "* Given the __IVP__\n",
        "$$\n",
        "\\frac{dy}{dx} = \\frac{x^2 + y^2}{ 10 }\\quad y(1.4) = 2.5,\n",
        "$$\n",
        "use __5 steps__ of Euler's method to evaluate $y(1.5)$."
      ]
    },
    {
      "cell_type": "markdown",
      "metadata": {
        "id": "zub_6QZZXtWg"
      },
      "source": [
        "__Solution:__\n",
        "\n",
        "* To begin, we need to __define__ the function __f(x,y)__ using the __def()__ commanad.\n",
        "\n",
        "* We are going to call our function __f1(x,y)__ since it is the function for __Example 1__.\n",
        "\n",
        "* The systax used is __**__ to represent __powers__ and __/__ to represent division.\n",
        "\n",
        "* Every __def()__ command __must__ finish with a __return__ command, which tells python what the output of the function should be."
      ]
    },
    {
      "cell_type": "code",
      "execution_count": null,
      "metadata": {
        "id": "75f2dcLqXtWg"
      },
      "outputs": [],
      "source": [
        "def f1(x,y):\n",
        "    return (x**2 +y**2)/10"
      ]
    },
    {
      "cell_type": "markdown",
      "metadata": {
        "id": "2tcN97BsXtWh"
      },
      "source": [
        "* We now set the rest of the inputs given in the problem as follows:"
      ]
    },
    {
      "cell_type": "code",
      "execution_count": null,
      "metadata": {
        "id": "KIut8g1kXtWh"
      },
      "outputs": [],
      "source": [
        "x0=1.4\n",
        "xn=1.5\n",
        "y0=2.5\n",
        "n=5"
      ]
    },
    {
      "cell_type": "markdown",
      "metadata": {
        "id": "j2NbnOs8XtWi"
      },
      "source": [
        "* Now we can run the __Euler()__ function using these inputs as follows:"
      ]
    },
    {
      "cell_type": "code",
      "execution_count": null,
      "metadata": {
        "colab": {
          "base_uri": "https://localhost:8080/"
        },
        "id": "g40WLpzqXtWi",
        "outputId": "8eb4ab67-e5f9-4bab-96f7-3132b2ee9628"
      },
      "outputs": [
        {
          "output_type": "execute_result",
          "data": {
            "text/plain": [
              "array([2.5    , 2.51712, 2.53454, 2.55225, 2.57027, 2.5886 ])"
            ]
          },
          "metadata": {},
          "execution_count": 7
        }
      ],
      "source": [
        "Euler(f1,x0,xn,y0,n)"
      ]
    },
    {
      "cell_type": "markdown",
      "metadata": {
        "id": "oaZ6gYqiXtWj"
      },
      "source": [
        "* These are the values for __y0__, __y1__, __y2__, __y3__, __y4__ and __y5__.\n",
        "\n",
        "* We can plot these against the x-values __x0__, __x1__, __x2__, __x3__, __x4__ and __x5__.\n",
        "\n",
        "* To create the plot we use the matplotlib command __plt.plot()__\n",
        "\n",
        "* Before we do that, we have to create our __x__ and __y__ values:\n",
        "    * The __y__ values are just the output of the __Euler()__ function so we just say"
      ]
    },
    {
      "cell_type": "code",
      "execution_count": null,
      "metadata": {
        "colab": {
          "base_uri": "https://localhost:8080/"
        },
        "id": "lzUWUt5yXtWj",
        "outputId": "a12dc287-a60b-45cc-c128-a0e9b9f094a1"
      },
      "outputs": [
        {
          "output_type": "execute_result",
          "data": {
            "text/plain": [
              "array([2.5    , 2.51712, 2.53454, 2.55225, 2.57027, 2.5886 ])"
            ]
          },
          "metadata": {},
          "execution_count": 8
        }
      ],
      "source": [
        "y= Euler(f1,x0,xn,y0,n)\n",
        "y"
      ]
    },
    {
      "cell_type": "markdown",
      "metadata": {
        "id": "5RJul1LQXtWj"
      },
      "source": [
        "* The __x__ values are created using the numpy function __np.linspace()__"
      ]
    },
    {
      "cell_type": "code",
      "execution_count": null,
      "metadata": {
        "colab": {
          "base_uri": "https://localhost:8080/"
        },
        "id": "d1_vgVTYXtWk",
        "outputId": "27f72bd1-780a-4a3d-e0cd-0f109f0de799"
      },
      "outputs": [
        {
          "output_type": "execute_result",
          "data": {
            "text/plain": [
              "array([1.4 , 1.42, 1.44, 1.46, 1.48, 1.5 ])"
            ]
          },
          "metadata": {},
          "execution_count": 9
        }
      ],
      "source": [
        "x=np.linspace(x0,xn,n+1)\n",
        "x"
      ]
    },
    {
      "cell_type": "markdown",
      "metadata": {
        "id": "37EGT-aWXtWl"
      },
      "source": [
        "* Now we can create our plot:"
      ]
    },
    {
      "cell_type": "code",
      "execution_count": null,
      "metadata": {
        "colab": {
          "base_uri": "https://localhost:8080/",
          "height": 279
        },
        "id": "BVs0uAsmXtWl",
        "outputId": "c630939c-6cd1-41de-ae1a-7d57a096d615"
      },
      "outputs": [
        {
          "output_type": "display_data",
          "data": {
            "text/plain": [
              "<Figure size 432x288 with 1 Axes>"
            ],
            "image/png": "[encoded data removed]"
          },
          "metadata": {
            "needs_background": "light"
          }
        }
      ],
      "source": [
        "plt.plot(x,y,'s',color='red') # Plot y vs x, using a 'red' square ('s') markers\n",
        "\n",
        "plt.xlabel('x') # Label the x-axis\n",
        "plt.ylabel('y') # Label the y-axis\n",
        "\n",
        "plt.savefig('Plot_eg1.pdf') # Save the figure as a pdf called Plot_eg1"
      ]
    },
    {
      "cell_type": "markdown",
      "source": [
        "### Downloading the file\n",
        "\n",
        "* The figure __Plot_eg1.pdf__ has been saved on the google server where this workbook is running.\n",
        "\n",
        "* To download this file to your own computer use the command __files.download(Plot_eg1.pdf)__\n",
        "\n",
        "* The file will save to your usual __Downloads folder__."
      ],
      "metadata": {
        "id": "0qSJiBVFYKcN"
      }
    },
    {
      "cell_type": "code",
      "source": [
        "files.download('Plot_eg1.pdf')"
      ],
      "metadata": {
        "colab": {
          "base_uri": "https://localhost:8080/",
          "height": 17
        },
        "id": "Zjqnqw-gYgrB",
        "outputId": "9eacb02c-422c-4ae0-feea-cdc631f17da8"
      },
      "execution_count": null,
      "outputs": [
        {
          "output_type": "display_data",
          "data": {
            "text/plain": [
              "<IPython.core.display.Javascript object>"
            ],
            "application/javascript": [
              "\n",
              "    async function download(id, filename, size) {\n",
              "      if (!google.colab.kernel.accessAllowed) {\n",
              "        return;\n",
              "      }\n",
              "      const div = document.createElement('div');\n",
              "      const label = document.createElement('label');\n",
              "      label.textContent = `Downloading \"${filename}\": `;\n",
              "      div.appendChild(label);\n",
              "      const progress = document.createElement('progress');\n",
              "      progress.max = size;\n",
              "      div.appendChild(progress);\n",
              "      document.body.appendChild(div);\n",
              "\n",
              "      const buffers = [];\n",
              "      let downloaded = 0;\n",
              "\n",
              "      const channel = await google.colab.kernel.comms.open(id);\n",
              "      // Send a message to notify the kernel that we're ready.\n",
              "      channel.send({})\n",
              "\n",
              "      for await (const message of channel.messages) {\n",
              "        // Send a message to notify the kernel that we're ready.\n",
              "        channel.send({})\n",
              "        if (message.buffers) {\n",
              "          for (const buffer of message.buffers) {\n",
              "            buffers.push(buffer);\n",
              "            downloaded += buffer.byteLength;\n",
              "            progress.value = downloaded;\n",
              "          }\n",
              "        }\n",
              "      }\n",
              "      const blob = new Blob(buffers, {type: 'application/binary'});\n",
              "      const a = document.createElement('a');\n",
              "      a.href = window.URL.createObjectURL(blob);\n",
              "      a.download = filename;\n",
              "      div.appendChild(a);\n",
              "      a.click();\n",
              "      div.remove();\n",
              "    }\n",
              "  "
            ]
          },
          "metadata": {}
        },
        {
          "output_type": "display_data",
          "data": {
            "text/plain": [
              "<IPython.core.display.Javascript object>"
            ],
            "application/javascript": [
              "download(\"download_124cd4e3-3468-4f5f-8eb4-6e17551dd419\", \"Plot_eg1.pdf\", 6664)"
            ]
          },
          "metadata": {}
        }
      ]
    },
    {
      "cell_type": "code",
      "source": [],
      "metadata": {
        "id": "JdUU-Zm2Zqbt"
      },
      "execution_count": null,
      "outputs": []
    },
    {
      "cell_type": "markdown",
      "source": [
        "# __More steps__\n",
        "\n",
        "* Now that we are using python to do our calculations, we can use a much bigger __n__ to solve our IVP numerically.\n",
        "\n",
        "* This ``should'' make our solution more accurate (howver this is not always the case, so be careful).\n",
        "\n",
        "\n",
        "* We will solve the exact same IVP as __Example 1__ but now use __n=100__ steps,"
      ],
      "metadata": {
        "id": "l4emd5BBZ4M1"
      }
    },
    {
      "cell_type": "markdown",
      "source": [
        "## __Exercise 1__\n",
        "\n",
        "\n",
        "* Given the IVP\n",
        "$$\n",
        "\\frac{dy}{dx} = \\frac{x^2 + y^2}{10},\\quad y(1.4) = 2.5\n",
        "$$\n",
        "follow the steps in __Example 1__ with $n=100$ steps of the Euler method to evaluate $y(1.5)$.\n",
        "\n",
        "\n",
        "* Create a appropriate __x__ and __y__ lists to plot this solution using __plt.plot()__"
      ],
      "metadata": {
        "id": "Rent3o2rZqpo"
      }
    },
    {
      "cell_type": "code",
      "source": [],
      "metadata": {
        "id": "G68XBYg0apj2"
      },
      "execution_count": null,
      "outputs": []
    },
    {
      "cell_type": "code",
      "source": [],
      "metadata": {
        "id": "LYyRYdOHapmU"
      },
      "execution_count": null,
      "outputs": []
    },
    {
      "cell_type": "code",
      "source": [],
      "metadata": {
        "id": "iH1NbOoCapoo"
      },
      "execution_count": null,
      "outputs": []
    },
    {
      "cell_type": "code",
      "source": [],
      "metadata": {
        "id": "sYlfdu7rapqo"
      },
      "execution_count": null,
      "outputs": []
    },
    {
      "cell_type": "code",
      "source": [],
      "metadata": {
        "id": "jYfu7qFkapsw"
      },
      "execution_count": null,
      "outputs": []
    },
    {
      "cell_type": "code",
      "source": [],
      "metadata": {
        "id": "b8Y2NBeyapxS"
      },
      "execution_count": null,
      "outputs": []
    },
    {
      "cell_type": "code",
      "source": [],
      "metadata": {
        "id": "gaEczLiia7_K"
      },
      "execution_count": null,
      "outputs": []
    },
    {
      "cell_type": "markdown",
      "source": [
        "## __Exercise 2__\n",
        "\n",
        "* Given the IVP\n",
        "$$\n",
        "\\frac{dy}{dx} = \\sin(xy)\\quad y(1)=\\pi,\n",
        "$$\n",
        "answer the following:\n",
        "1. Use __n=10__ steps of the Euler method to solve for $y(2.5)$.  _Hint_: __pi__ is used to represent $\\pi$ in python\n",
        "\n",
        "2. Use __n=1000__ steps of the Euler method to solve for $y(2.5)$\n",
        "\n",
        "3. Plot both of these solutions using __plt.plot()__\n"
      ],
      "metadata": {
        "id": "xLYr1s9ta8cF"
      }
    },
    {
      "cell_type": "code",
      "source": [
        "def f2(x,y):\n",
        "    return np.sin(x*y) # * is used to denote multiplication in python"
      ],
      "metadata": {
        "id": "BEakBbGmbbQd"
      },
      "execution_count": null,
      "outputs": []
    },
    {
      "cell_type": "code",
      "source": [],
      "metadata": {
        "id": "JaJizAVGbbcJ"
      },
      "execution_count": null,
      "outputs": []
    },
    {
      "cell_type": "code",
      "source": [],
      "metadata": {
        "id": "kNPPsOsKc_X2"
      },
      "execution_count": null,
      "outputs": []
    },
    {
      "cell_type": "code",
      "source": [],
      "metadata": {
        "id": "OMVZEjAfc_aW"
      },
      "execution_count": null,
      "outputs": []
    },
    {
      "cell_type": "code",
      "source": [],
      "metadata": {
        "id": "85lBoTbEc_ct"
      },
      "execution_count": null,
      "outputs": []
    },
    {
      "cell_type": "code",
      "source": [],
      "metadata": {
        "id": "cIZWD-lgc_e9"
      },
      "execution_count": null,
      "outputs": []
    },
    {
      "cell_type": "code",
      "source": [],
      "metadata": {
        "id": "YN1CjBXOc_hd"
      },
      "execution_count": null,
      "outputs": []
    },
    {
      "cell_type": "code",
      "source": [],
      "metadata": {
        "id": "PEt9SoO0bbeU"
      },
      "execution_count": null,
      "outputs": []
    },
    {
      "cell_type": "markdown",
      "source": [
        "# The Euler-Heun Method\n",
        "\n",
        "* The Euler-Heun method (also called Heun's method) is an imporvement on Euler's method.\n",
        "\n",
        "* The Euler-Heun method uses the Euler method as an __intermediate step__ during each iteration of the calcluation.\n",
        "\n",
        "* It tends to be much more accurate than Euler's method, especially when the step size __h__ is realatively big, or in other words, when __x0__ and __xn__ are far apart.\n",
        "\n",
        "\n",
        "* The code for implementing this algorithm is defined in the cell below:"
      ],
      "metadata": {
        "id": "abSYIS0XdGIN"
      }
    },
    {
      "cell_type": "code",
      "execution_count": null,
      "metadata": {
        "id": "WpxVX4B7XtWl"
      },
      "outputs": [],
      "source": [
        "def Heun(f, x0, xn, y0, n):\n",
        "    x = np.linspace(x0,xn,n+1)\n",
        "    h=x[1]-x[0]\n",
        "    y = np.zeros(n+1)\n",
        "    y_inter = np.zeros(n+1)\n",
        "    for i in range(n+1):\n",
        "        y[0]=y0\n",
        "        y_inter[0]=y0\n",
        "        y_inter[i]=y[i-1]+h*f(x[i-1],y[i-1])\n",
        "        y[i]=y[i-1]+0.5*h*(f(x[i-1],y[i-1])+f(x[i],y_inter[i]))\n",
        "    return np.round(y,5)"
      ]
    },
    {
      "cell_type": "markdown",
      "source": [
        "* As you can see, __Heun()__ requires the exact same __5 inputs__ as the __Euler()__ function."
      ],
      "metadata": {
        "id": "AHJksCo3d-Bl"
      }
    },
    {
      "cell_type": "markdown",
      "source": [
        "## __Example 2: Comparing Euler() and Heun()__\n",
        "\n",
        "* Given the IVP\n",
        "$$\n",
        "\\frac{dy}{dx} = x-y\\quad y(4) = 5.6\n",
        "$$\n",
        "answer the following:\n",
        "\n",
        "1. Evaluate $y(12.5)$ using $n=250$ steps of Euler's method.\n",
        "\n",
        "2. Evaluate $y(12.5)$ using $n=250$ steps of the Euler-Heun method\n",
        "\n",
        "3. Plot the solutions obtained by each method."
      ],
      "metadata": {
        "id": "LAe2bwXveKpp"
      }
    },
    {
      "cell_type": "markdown",
      "source": [
        "## __Solution:__\n",
        "\n",
        "* As always our first step is to define the function __f(x,y)__ as follows:"
      ],
      "metadata": {
        "id": "RCjxvyP1eyKr"
      }
    },
    {
      "cell_type": "code",
      "source": [
        "def f3(x,y):\n",
        "    return x - y"
      ],
      "metadata": {
        "id": "82wyZKa-d7TM"
      },
      "execution_count": null,
      "outputs": []
    },
    {
      "cell_type": "markdown",
      "source": [
        "* Now we define the other paramters in the as they are given in the IVP:"
      ],
      "metadata": {
        "id": "OJCRHz72fKut"
      }
    },
    {
      "cell_type": "code",
      "source": [
        "x0=4\n",
        "xn=12.5\n",
        "y0=5.6\n",
        "n=250"
      ],
      "metadata": {
        "id": "nss7mH01d7Vo"
      },
      "execution_count": null,
      "outputs": []
    },
    {
      "cell_type": "markdown",
      "source": [
        "### The __Euler()__ solution\n",
        "\n",
        "* We will call the y-values of the __Euler()__ solution __ye__ (for y-euler)"
      ],
      "metadata": {
        "id": "CNWWdkGnfWWX"
      }
    },
    {
      "cell_type": "code",
      "source": [
        "ye = Euler(f3,x0,xn,y0,n)\n",
        "ye"
      ],
      "metadata": {
        "colab": {
          "base_uri": "https://localhost:8080/"
        },
        "id": "-9jVu0C0d7YA",
        "outputId": "fcd5e36b-04f8-47be-9f30-3433e4e17fb0"
      },
      "execution_count": null,
      "outputs": [
        {
          "output_type": "execute_result",
          "data": {
            "text/plain": [
              "array([ 5.6    ,  5.83576,  6.06465,  6.28692,  6.50279,  6.71248,\n",
              "        6.91619,  7.11413,  7.3065 ,  7.49348,  7.67526,  7.85202,\n",
              "        8.02392,  8.19114,  8.35382,  8.51213,  8.66622,  8.81622,\n",
              "        8.96227,  9.10452,  9.24309,  9.3781 ,  9.50967,  9.63793,\n",
              "        9.76299,  9.88495, 10.00391, 10.11999, 10.23328, 10.34387,\n",
              "       10.45186, 10.55733, 10.66038, 10.76107, 10.8595 , 10.95574,\n",
              "       11.04986, 11.14193, 11.23204, 11.32023, 11.40658, 11.49116,\n",
              "       11.57401, 11.6552 , 11.73479, 11.81282, 11.88936, 11.96446,\n",
              "       12.03815, 12.1105 , 12.18154, 12.25133, 12.31989, 12.38729,\n",
              "       12.45354, 12.5187 , 12.5828 , 12.64588, 12.70797, 12.7691 ,\n",
              "       12.82931, 12.88863, 12.94709, 13.00472, 13.06154, 13.11759,\n",
              "       13.17289, 13.22746, 13.28133, 13.33453, 13.38708, 13.43899,\n",
              "       13.4903 , 13.54102, 13.59117, 13.64077, 13.68984, 13.73839,\n",
              "       13.78646, 13.83404, 13.88116, 13.92784, 13.97409, 14.01992,\n",
              "       14.06534, 14.11038, 14.15504, 14.19934, 14.24329, 14.28691,\n",
              "       14.33019, 14.37316, 14.41583, 14.4582 , 14.50028, 14.54209,\n",
              "       14.58364, 14.62492, 14.66597, 14.70677, 14.74734, 14.78768,\n",
              "       14.82781, 14.86774, 14.90746, 14.94698, 14.98632, 15.02548,\n",
              "       15.06446, 15.10327, 15.14192, 15.18041, 15.21875, 15.25694,\n",
              "       15.29499, 15.3329 , 15.37068, 15.40833, 15.44585, 15.48326,\n",
              "       15.52054, 15.55772, 15.59479, 15.63176, 15.66862, 15.70539,\n",
              "       15.74206, 15.77864, 15.81514, 15.85155, 15.88787, 15.92412,\n",
              "       15.96029, 15.99639, 16.03242, 16.06838, 16.10427, 16.14009,\n",
              "       16.17586, 16.21156, 16.24721, 16.2828 , 16.31834, 16.35382,\n",
              "       16.38926, 16.42464, 16.45998, 16.49527, 16.53052, 16.56573,\n",
              "       16.60089, 16.63602, 16.67111, 16.70616, 16.74117, 16.77615,\n",
              "       16.8111 , 16.84601, 16.8809 , 16.91575, 16.95057, 16.98537,\n",
              "       17.02014, 17.05488, 17.0896 , 17.1243 , 17.15897, 17.19361,\n",
              "       17.22824, 17.26284, 17.29742, 17.33199, 17.36653, 17.40106,\n",
              "       17.43557, 17.47006, 17.50453, 17.53899, 17.57343, 17.60786,\n",
              "       17.64227, 17.67667, 17.71106, 17.74543, 17.77979, 17.81413,\n",
              "       17.84847, 17.88279, 17.91711, 17.95141, 17.9857 , 18.01998,\n",
              "       18.05426, 18.08852, 18.12277, 18.15702, 18.19126, 18.22549,\n",
              "       18.25971, 18.29392, 18.32813, 18.36233, 18.39652, 18.43071,\n",
              "       18.46489, 18.49906, 18.53323, 18.56739, 18.60155, 18.6357 ,\n",
              "       18.66985, 18.70399, 18.73812, 18.77225, 18.80638, 18.84051,\n",
              "       18.87462, 18.90874, 18.94285, 18.97696, 19.01106, 19.04516,\n",
              "       19.07926, 19.11335, 19.14744, 19.18153, 19.21561, 19.24969,\n",
              "       19.28377, 19.31785, 19.35192, 19.38599, 19.42006, 19.45412,\n",
              "       19.48819, 19.52225, 19.55631, 19.59037, 19.62442, 19.65848,\n",
              "       19.69253, 19.72658, 19.76063, 19.79467, 19.82872, 19.86276,\n",
              "       19.8968 , 19.93084, 19.96488, 19.99892, 20.03296])"
            ]
          },
          "metadata": {},
          "execution_count": 40
        }
      ]
    },
    {
      "cell_type": "markdown",
      "source": [
        "### The __Heun()__ solution\n",
        "\n",
        "* We will call the y-values of the __Heun()__ solution __yh__ (for y-heun)"
      ],
      "metadata": {
        "id": "KOwbzcwEfzwF"
      }
    },
    {
      "cell_type": "code",
      "source": [
        "yh = Heun(f3,x0,xn,y0,n)\n",
        "yh"
      ],
      "metadata": {
        "colab": {
          "base_uri": "https://localhost:8080/"
        },
        "id": "t-ZmpKWLd7lG",
        "outputId": "5321f621-0e2c-4719-cb04-3c2ee82bd8c1"
      },
      "execution_count": null,
      "outputs": [
        {
          "output_type": "execute_result",
          "data": {
            "text/plain": [
              "array([ 5.6    ,  5.5471 ,  5.49711,  5.44992,  5.40545,  5.3636 ,\n",
              "        5.32429,  5.28742,  5.25293,  5.22072,  5.19073,  5.16287,\n",
              "        5.13708,  5.1133 ,  5.09144,  5.07145,  5.05326,  5.03682,\n",
              "        5.02206,  5.00893,  4.99738,  4.98735,  4.97879,  4.97166,\n",
              "        4.9659 ,  4.96147,  4.95832,  4.95641,  4.95571,  4.95616,\n",
              "        4.95774,  4.96039,  4.9641 ,  4.96882,  4.97452,  4.98116,\n",
              "        4.98872,  4.99716,  5.00646,  5.01658,  5.0275 ,  5.03919,\n",
              "        5.05162,  5.06478,  5.07864,  5.09316,  5.10834,  5.12415,\n",
              "        5.14056,  5.15757,  5.17514,  5.19326,  5.21191,  5.23107,\n",
              "        5.25073,  5.27087,  5.29147,  5.31252,  5.334  ,  5.35591,\n",
              "        5.37821,  5.40091,  5.42398,  5.44742,  5.47121,  5.49535,\n",
              "        5.51981,  5.54459,  5.56968,  5.59507,  5.62074,  5.6467 ,\n",
              "        5.67292,  5.6994 ,  5.72614,  5.75311,  5.78033,  5.80776,\n",
              "        5.83542,  5.86329,  5.89137,  5.91964,  5.9481 ,  5.97675,\n",
              "        6.00558,  6.03458,  6.06375,  6.09308,  6.12256,  6.1522 ,\n",
              "        6.18198,  6.2119 ,  6.24196,  6.27216,  6.30247,  6.33292,\n",
              "        6.36348,  6.39415,  6.42494,  6.45583,  6.48683,  6.51793,\n",
              "        6.54912,  6.58041,  6.61179,  6.64326,  6.67481,  6.70644,\n",
              "        6.73815,  6.76994,  6.80181,  6.83374,  6.86574,  6.89781,\n",
              "        6.92995,  6.96215,  6.9944 ,  7.02672,  7.05909,  7.09152,\n",
              "        7.12399,  7.15652,  7.1891 ,  7.22173,  7.2544 ,  7.28712,\n",
              "        7.31988,  7.35268,  7.38552,  7.4184 ,  7.45132,  7.48427,\n",
              "        7.51726,  7.55028,  7.58333,  7.61642,  7.64954,  7.68268,\n",
              "        7.71586,  7.74906,  7.78229,  7.81555,  7.84883,  7.88213,\n",
              "        7.91546,  7.94881,  7.98218,  8.01557,  8.04898,  8.08242,\n",
              "        8.11587,  8.14934,  8.18282,  8.21633,  8.24985,  8.28339,\n",
              "        8.31694,  8.35051,  8.38409,  8.41769,  8.45129,  8.48492,\n",
              "        8.51855,  8.5522 ,  8.58586,  8.61953,  8.65321,  8.6869 ,\n",
              "        8.72061,  8.75432,  8.78804,  8.82177,  8.85551,  8.88926,\n",
              "        8.92302,  8.95678,  8.99056,  9.02434,  9.05813,  9.09192,\n",
              "        9.12572,  9.15953,  9.19335,  9.22717,  9.261  ,  9.29483,\n",
              "        9.32867,  9.36251,  9.39636,  9.43021,  9.46407,  9.49794,\n",
              "        9.53181,  9.56568,  9.59956,  9.63344,  9.66732,  9.70121,\n",
              "        9.7351 ,  9.769  ,  9.8029 ,  9.8368 ,  9.87071,  9.90462,\n",
              "        9.93853,  9.97245, 10.00636, 10.04029, 10.07421, 10.10814,\n",
              "       10.14206, 10.176  , 10.20993, 10.24386, 10.2778 , 10.31174,\n",
              "       10.34568, 10.37963, 10.41357, 10.44752, 10.48147, 10.51542,\n",
              "       10.54937, 10.58333, 10.61728, 10.65124, 10.6852 , 10.71916,\n",
              "       10.75312, 10.78708, 10.82105, 10.85501, 10.88898, 10.92294,\n",
              "       10.95691, 10.99088, 11.02485, 11.05882, 11.0928 , 11.12677,\n",
              "       11.16074, 11.19472, 11.2287 , 11.26267, 11.29665, 11.33063,\n",
              "       11.36461, 11.39859, 11.43257, 11.46655, 11.50053])"
            ]
          },
          "metadata": {},
          "execution_count": 41
        }
      ]
    },
    {
      "cell_type": "markdown",
      "source": [
        "## __Plotting__ the solutions\n",
        "\n",
        "* To plot the solutions we have to create a list of x-values with the __np.linspace()__ function:"
      ],
      "metadata": {
        "id": "cWYgFJOigeMe"
      }
    },
    {
      "cell_type": "code",
      "source": [
        "x=np.linspace(x0,xn,n+1)\n",
        "x"
      ],
      "metadata": {
        "colab": {
          "base_uri": "https://localhost:8080/"
        },
        "id": "EcH9ACcYgr7s",
        "outputId": "c5e102f4-c60d-488b-b2a3-cc871ec851d5"
      },
      "execution_count": null,
      "outputs": [
        {
          "output_type": "execute_result",
          "data": {
            "text/plain": [
              "array([ 4.   ,  4.034,  4.068,  4.102,  4.136,  4.17 ,  4.204,  4.238,\n",
              "        4.272,  4.306,  4.34 ,  4.374,  4.408,  4.442,  4.476,  4.51 ,\n",
              "        4.544,  4.578,  4.612,  4.646,  4.68 ,  4.714,  4.748,  4.782,\n",
              "        4.816,  4.85 ,  4.884,  4.918,  4.952,  4.986,  5.02 ,  5.054,\n",
              "        5.088,  5.122,  5.156,  5.19 ,  5.224,  5.258,  5.292,  5.326,\n",
              "        5.36 ,  5.394,  5.428,  5.462,  5.496,  5.53 ,  5.564,  5.598,\n",
              "        5.632,  5.666,  5.7  ,  5.734,  5.768,  5.802,  5.836,  5.87 ,\n",
              "        5.904,  5.938,  5.972,  6.006,  6.04 ,  6.074,  6.108,  6.142,\n",
              "        6.176,  6.21 ,  6.244,  6.278,  6.312,  6.346,  6.38 ,  6.414,\n",
              "        6.448,  6.482,  6.516,  6.55 ,  6.584,  6.618,  6.652,  6.686,\n",
              "        6.72 ,  6.754,  6.788,  6.822,  6.856,  6.89 ,  6.924,  6.958,\n",
              "        6.992,  7.026,  7.06 ,  7.094,  7.128,  7.162,  7.196,  7.23 ,\n",
              "        7.264,  7.298,  7.332,  7.366,  7.4  ,  7.434,  7.468,  7.502,\n",
              "        7.536,  7.57 ,  7.604,  7.638,  7.672,  7.706,  7.74 ,  7.774,\n",
              "        7.808,  7.842,  7.876,  7.91 ,  7.944,  7.978,  8.012,  8.046,\n",
              "        8.08 ,  8.114,  8.148,  8.182,  8.216,  8.25 ,  8.284,  8.318,\n",
              "        8.352,  8.386,  8.42 ,  8.454,  8.488,  8.522,  8.556,  8.59 ,\n",
              "        8.624,  8.658,  8.692,  8.726,  8.76 ,  8.794,  8.828,  8.862,\n",
              "        8.896,  8.93 ,  8.964,  8.998,  9.032,  9.066,  9.1  ,  9.134,\n",
              "        9.168,  9.202,  9.236,  9.27 ,  9.304,  9.338,  9.372,  9.406,\n",
              "        9.44 ,  9.474,  9.508,  9.542,  9.576,  9.61 ,  9.644,  9.678,\n",
              "        9.712,  9.746,  9.78 ,  9.814,  9.848,  9.882,  9.916,  9.95 ,\n",
              "        9.984, 10.018, 10.052, 10.086, 10.12 , 10.154, 10.188, 10.222,\n",
              "       10.256, 10.29 , 10.324, 10.358, 10.392, 10.426, 10.46 , 10.494,\n",
              "       10.528, 10.562, 10.596, 10.63 , 10.664, 10.698, 10.732, 10.766,\n",
              "       10.8  , 10.834, 10.868, 10.902, 10.936, 10.97 , 11.004, 11.038,\n",
              "       11.072, 11.106, 11.14 , 11.174, 11.208, 11.242, 11.276, 11.31 ,\n",
              "       11.344, 11.378, 11.412, 11.446, 11.48 , 11.514, 11.548, 11.582,\n",
              "       11.616, 11.65 , 11.684, 11.718, 11.752, 11.786, 11.82 , 11.854,\n",
              "       11.888, 11.922, 11.956, 11.99 , 12.024, 12.058, 12.092, 12.126,\n",
              "       12.16 , 12.194, 12.228, 12.262, 12.296, 12.33 , 12.364, 12.398,\n",
              "       12.432, 12.466, 12.5  ])"
            ]
          },
          "metadata": {},
          "execution_count": 42
        }
      ]
    },
    {
      "cell_type": "markdown",
      "source": [
        "* Now we can plot both solutions:\n",
        "    * We will plot each soltuion as a line graph (not markers).\n",
        "    * We will colour the __ye__ solution red abd the __yh__ solution blue."
      ],
      "metadata": {
        "id": "RzAHQtgpgxTO"
      }
    },
    {
      "cell_type": "code",
      "source": [
        "plt.plot(x,ye,color='red', label='ye')\n",
        "plt.plot(x,yh,color='blue', label='yh')\n",
        "\n",
        "plt.xlabel('x')\n",
        "plt.ylabel('y')\n",
        "plt.legend(loc='upper left', ncol=2) # The plots a legend telling us what each curve represents. The labels are defined inside each plot\n"
      ],
      "metadata": {
        "colab": {
          "base_uri": "https://localhost:8080/",
          "height": 279
        },
        "id": "5TRiXtwqhFxh",
        "outputId": "a738bb3a-b97b-4eb8-d445-0cdf235ec646"
      },
      "execution_count": null,
      "outputs": [
        {
          "output_type": "display_data",
          "data": {
            "text/plain": [
              "<Figure size 432x288 with 1 Axes>"
            ],
            "image/png": "[encoded data removed]"
          },
          "metadata": {
            "needs_background": "light"
          }
        }
      ]
    },
    {
      "cell_type": "markdown",
      "source": [
        "## The __Exact__ solution\n",
        "\n",
        "* The IVP in this example can actually be solved by hand, and has a solution given by\n",
        "$$\n",
        "y = x-1 +141.95519e^{-x}\n",
        "$$\n",
        "\n",
        "* We will define a function called __yex()__ (for y-exact) to refresent this solution:"
      ],
      "metadata": {
        "id": "jTvJojrshoxh"
      }
    },
    {
      "cell_type": "code",
      "source": [
        "def yex(x):\n",
        "    return x-1+141.95519*np.exp(-x)"
      ],
      "metadata": {
        "id": "jdcIzwb4iRPN"
      },
      "execution_count": null,
      "outputs": []
    },
    {
      "cell_type": "markdown",
      "source": [
        "* We will now add this to our previous plot and colour it green, to compare all three solutions:"
      ],
      "metadata": {
        "id": "TUgGG4wLiczW"
      }
    },
    {
      "cell_type": "code",
      "source": [
        "plt.plot(x,ye,color='red', label='ye')\n",
        "plt.plot(x,yh,color='blue', label='yh')\n",
        "plt.plot(x,yex(x),color='green',label='yex')\n",
        "\n",
        "plt.xlabel('x')\n",
        "plt.ylabel('y')\n",
        "plt.legend(loc='upper left', ncol=3)"
      ],
      "metadata": {
        "colab": {
          "base_uri": "https://localhost:8080/",
          "height": 297
        },
        "id": "YhDJswIHicEY",
        "outputId": "6c12ad5f-2e06-47fd-e81d-5682195e1d58"
      },
      "execution_count": null,
      "outputs": [
        {
          "output_type": "execute_result",
          "data": {
            "text/plain": [
              "<matplotlib.legend.Legend at 0x7fd98bba8cd0>"
            ]
          },
          "metadata": {},
          "execution_count": 49
        },
        {
          "output_type": "display_data",
          "data": {
            "text/plain": [
              "<Figure size 432x288 with 1 Axes>"
            ],
            "image/png": "[encoded data removed]"
          },
          "metadata": {
            "needs_background": "light"
          }
        }
      ]
    },
    {
      "cell_type": "markdown",
      "source": [
        "## The best solution\n",
        "\n",
        "* It is clear from the plot the __yex__ and __yh__ are almost the exact same curve, so it is clear __Heun()__ is much more accurate the __Euler()__"
      ],
      "metadata": {
        "id": "zKu7MUTfi47u"
      }
    },
    {
      "cell_type": "code",
      "source": [],
      "metadata": {
        "id": "BK-UCo16jl6i"
      },
      "execution_count": null,
      "outputs": []
    },
    {
      "cell_type": "markdown",
      "source": [
        "## __Exercise 2__\n",
        "\n",
        "The IVP\n",
        "$$\n",
        "\\frac{dy}{dx} = x^2-y\\quad y(2)=3.5\n",
        "$$\n",
        "has and __exact__ solution given by\n",
        "$$\n",
        "y(x) = x^2 -2(x-1) +11.08358e^{-x}.\n",
        "$$\n",
        "Given this iformation, follow the steps of __Example 2__ to answer the following:\n",
        "\n",
        "1. Use __n=250__ steps of Euler's method to solve for $y(10)$.\n",
        "\n",
        "2. Use __n=250__ steps of Heun's method to solve for $y(10)$.\n",
        "\n",
        "3. Create a function to represent the exact solution given above.\n",
        "\n",
        "4. Plot all three solutions on the same graph.\n",
        "\n",
        "5. Which is the most accurate solution, the __Euler()__ or the __Heun()__?"
      ],
      "metadata": {
        "id": "PUvCYr0BjlHt"
      }
    },
    {
      "cell_type": "code",
      "source": [],
      "metadata": {
        "id": "DO6xXTuIkxJ5"
      },
      "execution_count": null,
      "outputs": []
    },
    {
      "cell_type": "code",
      "source": [],
      "metadata": {
        "id": "bzJcsd0akxMI"
      },
      "execution_count": null,
      "outputs": []
    },
    {
      "cell_type": "code",
      "source": [],
      "metadata": {
        "id": "v-MvrtKHkxOp"
      },
      "execution_count": null,
      "outputs": []
    },
    {
      "cell_type": "code",
      "source": [],
      "metadata": {
        "id": "qjdL6bEikxRE"
      },
      "execution_count": null,
      "outputs": []
    },
    {
      "cell_type": "code",
      "source": [],
      "metadata": {
        "id": "pNkVnVRvkxTc"
      },
      "execution_count": null,
      "outputs": []
    },
    {
      "cell_type": "code",
      "source": [],
      "metadata": {
        "id": "PUiaueBakxVg"
      },
      "execution_count": null,
      "outputs": []
    },
    {
      "cell_type": "code",
      "source": [],
      "metadata": {
        "id": "L8gLxwwhkxX_"
      },
      "execution_count": null,
      "outputs": []
    },
    {
      "cell_type": "code",
      "source": [],
      "metadata": {
        "id": "7uHXk4w_kxZ_"
      },
      "execution_count": null,
      "outputs": []
    },
    {
      "cell_type": "code",
      "source": [],
      "metadata": {
        "id": "jWa3u_QykxcC"
      },
      "execution_count": null,
      "outputs": []
    }
  ],
  "metadata": {
    "kernelspec": {
      "display_name": "Python 3 (ipykernel)",
      "language": "python",
      "name": "python3"
    },
    "language_info": {
      "codemirror_mode": {
        "name": "ipython",
        "version": 3
      },
      "file_extension": ".py",
      "mimetype": "text/x-python",
      "name": "python",
      "nbconvert_exporter": "python",
      "pygments_lexer": "ipython3",
      "version": "3.9.12"
    },
    "colab": {
      "provenance": [],
      "include_colab_link": true
    }
  },
  "nbformat": 4,
  "nbformat_minor": 0
}